{
 "cells": [
  {
   "cell_type": "code",
   "execution_count": 1,
   "metadata": {},
   "outputs": [],
   "source": [
    "from sklearn.preprocessing import LabelEncoder\n",
    "import matplotlib.pyplot as plt\n",
    "from sklearn.metrics import accuracy_score, classification_report\n",
    "from sklearn.metrics import confusion_matrix,ConfusionMatrixDisplay\n",
    "from sklearn.model_selection import train_test_split\n",
    "from sklearn.naive_bayes import GaussianNB\n",
    "from sklearn.ensemble import RandomForestClassifier\n",
    "from sklearn.model_selection import GridSearchCV\n",
    "import pandas as pd\n",
    "from sklearn.model_selection import cross_val_score\n",
    "from sklearn.naive_bayes import GaussianNB\n",
    "from sklearn.ensemble import RandomForestClassifier\n",
    "\n"
   ]
  },
  {
   "cell_type": "markdown",
   "metadata": {},
   "source": [
    "Load Data  Set"
   ]
  },
  {
   "cell_type": "code",
   "execution_count": 2,
   "metadata": {},
   "outputs": [
    {
     "data": {
      "text/html": [
       "<div>\n",
       "<style scoped>\n",
       "    .dataframe tbody tr th:only-of-type {\n",
       "        vertical-align: middle;\n",
       "    }\n",
       "\n",
       "    .dataframe tbody tr th {\n",
       "        vertical-align: top;\n",
       "    }\n",
       "\n",
       "    .dataframe thead th {\n",
       "        text-align: right;\n",
       "    }\n",
       "</style>\n",
       "<table border=\"1\" class=\"dataframe\">\n",
       "  <thead>\n",
       "    <tr style=\"text-align: right;\">\n",
       "      <th></th>\n",
       "      <th>age</th>\n",
       "      <th>workclass</th>\n",
       "      <th>fnlwgt</th>\n",
       "      <th>education</th>\n",
       "      <th>marital-status</th>\n",
       "      <th>occupation</th>\n",
       "      <th>relationship</th>\n",
       "      <th>race</th>\n",
       "      <th>sex</th>\n",
       "      <th>capital-gain</th>\n",
       "      <th>capital-loss</th>\n",
       "      <th>hours-per-week</th>\n",
       "      <th>native-country</th>\n",
       "      <th>income</th>\n",
       "    </tr>\n",
       "  </thead>\n",
       "  <tbody>\n",
       "    <tr>\n",
       "      <th>0</th>\n",
       "      <td>0.152036</td>\n",
       "      <td>1.455568</td>\n",
       "      <td>-0.201502</td>\n",
       "      <td>1.268918</td>\n",
       "      <td>-0.329401</td>\n",
       "      <td>-0.592023</td>\n",
       "      <td>-0.740065</td>\n",
       "      <td>0.365699</td>\n",
       "      <td>0.607175</td>\n",
       "      <td>-0.374835</td>\n",
       "      <td>0</td>\n",
       "      <td>1.802070</td>\n",
       "      <td>0.276974</td>\n",
       "      <td>-1</td>\n",
       "    </tr>\n",
       "    <tr>\n",
       "      <th>1</th>\n",
       "      <td>-0.664604</td>\n",
       "      <td>0.039824</td>\n",
       "      <td>0.272180</td>\n",
       "      <td>-0.422008</td>\n",
       "      <td>-0.329401</td>\n",
       "      <td>1.232540</td>\n",
       "      <td>-0.740065</td>\n",
       "      <td>0.365699</td>\n",
       "      <td>0.607175</td>\n",
       "      <td>-0.374835</td>\n",
       "      <td>0</td>\n",
       "      <td>0.025525</td>\n",
       "      <td>0.276974</td>\n",
       "      <td>1</td>\n",
       "    </tr>\n",
       "    <tr>\n",
       "      <th>2</th>\n",
       "      <td>-0.582940</td>\n",
       "      <td>0.039824</td>\n",
       "      <td>2.148337</td>\n",
       "      <td>0.141634</td>\n",
       "      <td>-0.329401</td>\n",
       "      <td>0.776399</td>\n",
       "      <td>-0.740065</td>\n",
       "      <td>0.365699</td>\n",
       "      <td>0.607175</td>\n",
       "      <td>-0.374835</td>\n",
       "      <td>0</td>\n",
       "      <td>-0.171869</td>\n",
       "      <td>0.276974</td>\n",
       "      <td>-1</td>\n",
       "    </tr>\n",
       "    <tr>\n",
       "      <th>3</th>\n",
       "      <td>-0.011292</td>\n",
       "      <td>0.039824</td>\n",
       "      <td>-0.509034</td>\n",
       "      <td>0.141634</td>\n",
       "      <td>-0.329401</td>\n",
       "      <td>-1.048163</td>\n",
       "      <td>-0.740065</td>\n",
       "      <td>0.365699</td>\n",
       "      <td>0.607175</td>\n",
       "      <td>-0.374835</td>\n",
       "      <td>0</td>\n",
       "      <td>1.407282</td>\n",
       "      <td>0.276974</td>\n",
       "      <td>-1</td>\n",
       "    </tr>\n",
       "    <tr>\n",
       "      <th>4</th>\n",
       "      <td>-0.664604</td>\n",
       "      <td>0.039824</td>\n",
       "      <td>-0.969360</td>\n",
       "      <td>-0.422008</td>\n",
       "      <td>1.154539</td>\n",
       "      <td>-1.504304</td>\n",
       "      <td>-0.127324</td>\n",
       "      <td>0.365699</td>\n",
       "      <td>-1.646972</td>\n",
       "      <td>-0.374835</td>\n",
       "      <td>0</td>\n",
       "      <td>0.617707</td>\n",
       "      <td>0.276974</td>\n",
       "      <td>-1</td>\n",
       "    </tr>\n",
       "    <tr>\n",
       "      <th>...</th>\n",
       "      <td>...</td>\n",
       "      <td>...</td>\n",
       "      <td>...</td>\n",
       "      <td>...</td>\n",
       "      <td>...</td>\n",
       "      <td>...</td>\n",
       "      <td>...</td>\n",
       "      <td>...</td>\n",
       "      <td>...</td>\n",
       "      <td>...</td>\n",
       "      <td>...</td>\n",
       "      <td>...</td>\n",
       "      <td>...</td>\n",
       "      <td>...</td>\n",
       "    </tr>\n",
       "    <tr>\n",
       "      <th>23369</th>\n",
       "      <td>0.805348</td>\n",
       "      <td>0.039824</td>\n",
       "      <td>-0.564403</td>\n",
       "      <td>-0.422008</td>\n",
       "      <td>-0.329401</td>\n",
       "      <td>0.776399</td>\n",
       "      <td>2.323639</td>\n",
       "      <td>0.365699</td>\n",
       "      <td>-1.646972</td>\n",
       "      <td>-0.374835</td>\n",
       "      <td>0</td>\n",
       "      <td>-0.171869</td>\n",
       "      <td>0.276974</td>\n",
       "      <td>1</td>\n",
       "    </tr>\n",
       "    <tr>\n",
       "      <th>23370</th>\n",
       "      <td>0.397028</td>\n",
       "      <td>-2.791663</td>\n",
       "      <td>-0.644042</td>\n",
       "      <td>0.423455</td>\n",
       "      <td>-0.329401</td>\n",
       "      <td>0.776399</td>\n",
       "      <td>-0.740065</td>\n",
       "      <td>0.365699</td>\n",
       "      <td>0.607175</td>\n",
       "      <td>-0.374835</td>\n",
       "      <td>0</td>\n",
       "      <td>0.321616</td>\n",
       "      <td>0.276974</td>\n",
       "      <td>1</td>\n",
       "    </tr>\n",
       "    <tr>\n",
       "      <th>23371</th>\n",
       "      <td>-0.337948</td>\n",
       "      <td>1.455568</td>\n",
       "      <td>-0.548351</td>\n",
       "      <td>1.268918</td>\n",
       "      <td>-0.329401</td>\n",
       "      <td>0.320259</td>\n",
       "      <td>2.323639</td>\n",
       "      <td>0.365699</td>\n",
       "      <td>-1.646972</td>\n",
       "      <td>-0.374835</td>\n",
       "      <td>0</td>\n",
       "      <td>0.815101</td>\n",
       "      <td>0.276974</td>\n",
       "      <td>-1</td>\n",
       "    </tr>\n",
       "    <tr>\n",
       "      <th>23372</th>\n",
       "      <td>0.315364</td>\n",
       "      <td>0.039824</td>\n",
       "      <td>0.099379</td>\n",
       "      <td>1.268918</td>\n",
       "      <td>-1.813341</td>\n",
       "      <td>0.320259</td>\n",
       "      <td>1.710898</td>\n",
       "      <td>-2.084597</td>\n",
       "      <td>-1.646972</td>\n",
       "      <td>-0.374835</td>\n",
       "      <td>0</td>\n",
       "      <td>-0.665353</td>\n",
       "      <td>0.276974</td>\n",
       "      <td>-1</td>\n",
       "    </tr>\n",
       "    <tr>\n",
       "      <th>23373</th>\n",
       "      <td>0.968675</td>\n",
       "      <td>0.039824</td>\n",
       "      <td>0.555165</td>\n",
       "      <td>-0.422008</td>\n",
       "      <td>-0.329401</td>\n",
       "      <td>0.776399</td>\n",
       "      <td>-0.740065</td>\n",
       "      <td>0.365699</td>\n",
       "      <td>0.607175</td>\n",
       "      <td>-0.374835</td>\n",
       "      <td>0</td>\n",
       "      <td>-0.171869</td>\n",
       "      <td>0.276974</td>\n",
       "      <td>1</td>\n",
       "    </tr>\n",
       "  </tbody>\n",
       "</table>\n",
       "<p>23374 rows × 14 columns</p>\n",
       "</div>"
      ],
      "text/plain": [
       "            age  workclass    fnlwgt  education  marital-status  occupation  \\\n",
       "0      0.152036   1.455568 -0.201502   1.268918       -0.329401   -0.592023   \n",
       "1     -0.664604   0.039824  0.272180  -0.422008       -0.329401    1.232540   \n",
       "2     -0.582940   0.039824  2.148337   0.141634       -0.329401    0.776399   \n",
       "3     -0.011292   0.039824 -0.509034   0.141634       -0.329401   -1.048163   \n",
       "4     -0.664604   0.039824 -0.969360  -0.422008        1.154539   -1.504304   \n",
       "...         ...        ...       ...        ...             ...         ...   \n",
       "23369  0.805348   0.039824 -0.564403  -0.422008       -0.329401    0.776399   \n",
       "23370  0.397028  -2.791663 -0.644042   0.423455       -0.329401    0.776399   \n",
       "23371 -0.337948   1.455568 -0.548351   1.268918       -0.329401    0.320259   \n",
       "23372  0.315364   0.039824  0.099379   1.268918       -1.813341    0.320259   \n",
       "23373  0.968675   0.039824  0.555165  -0.422008       -0.329401    0.776399   \n",
       "\n",
       "       relationship      race       sex  capital-gain  capital-loss  \\\n",
       "0         -0.740065  0.365699  0.607175     -0.374835             0   \n",
       "1         -0.740065  0.365699  0.607175     -0.374835             0   \n",
       "2         -0.740065  0.365699  0.607175     -0.374835             0   \n",
       "3         -0.740065  0.365699  0.607175     -0.374835             0   \n",
       "4         -0.127324  0.365699 -1.646972     -0.374835             0   \n",
       "...             ...       ...       ...           ...           ...   \n",
       "23369      2.323639  0.365699 -1.646972     -0.374835             0   \n",
       "23370     -0.740065  0.365699  0.607175     -0.374835             0   \n",
       "23371      2.323639  0.365699 -1.646972     -0.374835             0   \n",
       "23372      1.710898 -2.084597 -1.646972     -0.374835             0   \n",
       "23373     -0.740065  0.365699  0.607175     -0.374835             0   \n",
       "\n",
       "       hours-per-week  native-country  income  \n",
       "0            1.802070        0.276974      -1  \n",
       "1            0.025525        0.276974       1  \n",
       "2           -0.171869        0.276974      -1  \n",
       "3            1.407282        0.276974      -1  \n",
       "4            0.617707        0.276974      -1  \n",
       "...               ...             ...     ...  \n",
       "23369       -0.171869        0.276974       1  \n",
       "23370        0.321616        0.276974       1  \n",
       "23371        0.815101        0.276974      -1  \n",
       "23372       -0.665353        0.276974      -1  \n",
       "23373       -0.171869        0.276974       1  \n",
       "\n",
       "[23374 rows x 14 columns]"
      ]
     },
     "execution_count": 2,
     "metadata": {},
     "output_type": "execute_result"
    }
   ],
   "source": [
    "df = pd.read_excel('D:\\DESKTOP\\CW ML\\Adult-Income-Analysis\\Finalized.xlsx')\n",
    "df"
   ]
  },
  {
   "cell_type": "markdown",
   "metadata": {},
   "source": [
    "Split the data into training and testing sets"
   ]
  },
  {
   "cell_type": "code",
   "execution_count": 3,
   "metadata": {},
   "outputs": [
    {
     "data": {
      "text/html": [
       "<div>\n",
       "<style scoped>\n",
       "    .dataframe tbody tr th:only-of-type {\n",
       "        vertical-align: middle;\n",
       "    }\n",
       "\n",
       "    .dataframe tbody tr th {\n",
       "        vertical-align: top;\n",
       "    }\n",
       "\n",
       "    .dataframe thead th {\n",
       "        text-align: right;\n",
       "    }\n",
       "</style>\n",
       "<table border=\"1\" class=\"dataframe\">\n",
       "  <thead>\n",
       "    <tr style=\"text-align: right;\">\n",
       "      <th></th>\n",
       "      <th>age</th>\n",
       "      <th>workclass</th>\n",
       "      <th>fnlwgt</th>\n",
       "      <th>education</th>\n",
       "      <th>marital-status</th>\n",
       "      <th>occupation</th>\n",
       "      <th>race</th>\n",
       "      <th>sex</th>\n",
       "      <th>capital-gain</th>\n",
       "      <th>capital-loss</th>\n",
       "      <th>hours-per-week</th>\n",
       "      <th>native-country</th>\n",
       "    </tr>\n",
       "  </thead>\n",
       "  <tbody>\n",
       "    <tr>\n",
       "      <th>0</th>\n",
       "      <td>0.152036</td>\n",
       "      <td>1.455568</td>\n",
       "      <td>-0.201502</td>\n",
       "      <td>1.268918</td>\n",
       "      <td>-0.329401</td>\n",
       "      <td>-0.592023</td>\n",
       "      <td>0.365699</td>\n",
       "      <td>0.607175</td>\n",
       "      <td>-0.374835</td>\n",
       "      <td>0</td>\n",
       "      <td>1.802070</td>\n",
       "      <td>0.276974</td>\n",
       "    </tr>\n",
       "    <tr>\n",
       "      <th>1</th>\n",
       "      <td>-0.664604</td>\n",
       "      <td>0.039824</td>\n",
       "      <td>0.272180</td>\n",
       "      <td>-0.422008</td>\n",
       "      <td>-0.329401</td>\n",
       "      <td>1.232540</td>\n",
       "      <td>0.365699</td>\n",
       "      <td>0.607175</td>\n",
       "      <td>-0.374835</td>\n",
       "      <td>0</td>\n",
       "      <td>0.025525</td>\n",
       "      <td>0.276974</td>\n",
       "    </tr>\n",
       "    <tr>\n",
       "      <th>2</th>\n",
       "      <td>-0.582940</td>\n",
       "      <td>0.039824</td>\n",
       "      <td>2.148337</td>\n",
       "      <td>0.141634</td>\n",
       "      <td>-0.329401</td>\n",
       "      <td>0.776399</td>\n",
       "      <td>0.365699</td>\n",
       "      <td>0.607175</td>\n",
       "      <td>-0.374835</td>\n",
       "      <td>0</td>\n",
       "      <td>-0.171869</td>\n",
       "      <td>0.276974</td>\n",
       "    </tr>\n",
       "    <tr>\n",
       "      <th>3</th>\n",
       "      <td>-0.011292</td>\n",
       "      <td>0.039824</td>\n",
       "      <td>-0.509034</td>\n",
       "      <td>0.141634</td>\n",
       "      <td>-0.329401</td>\n",
       "      <td>-1.048163</td>\n",
       "      <td>0.365699</td>\n",
       "      <td>0.607175</td>\n",
       "      <td>-0.374835</td>\n",
       "      <td>0</td>\n",
       "      <td>1.407282</td>\n",
       "      <td>0.276974</td>\n",
       "    </tr>\n",
       "    <tr>\n",
       "      <th>4</th>\n",
       "      <td>-0.664604</td>\n",
       "      <td>0.039824</td>\n",
       "      <td>-0.969360</td>\n",
       "      <td>-0.422008</td>\n",
       "      <td>1.154539</td>\n",
       "      <td>-1.504304</td>\n",
       "      <td>0.365699</td>\n",
       "      <td>-1.646972</td>\n",
       "      <td>-0.374835</td>\n",
       "      <td>0</td>\n",
       "      <td>0.617707</td>\n",
       "      <td>0.276974</td>\n",
       "    </tr>\n",
       "  </tbody>\n",
       "</table>\n",
       "</div>"
      ],
      "text/plain": [
       "        age  workclass    fnlwgt  education  marital-status  occupation  \\\n",
       "0  0.152036   1.455568 -0.201502   1.268918       -0.329401   -0.592023   \n",
       "1 -0.664604   0.039824  0.272180  -0.422008       -0.329401    1.232540   \n",
       "2 -0.582940   0.039824  2.148337   0.141634       -0.329401    0.776399   \n",
       "3 -0.011292   0.039824 -0.509034   0.141634       -0.329401   -1.048163   \n",
       "4 -0.664604   0.039824 -0.969360  -0.422008        1.154539   -1.504304   \n",
       "\n",
       "       race       sex  capital-gain  capital-loss  hours-per-week  \\\n",
       "0  0.365699  0.607175     -0.374835             0        1.802070   \n",
       "1  0.365699  0.607175     -0.374835             0        0.025525   \n",
       "2  0.365699  0.607175     -0.374835             0       -0.171869   \n",
       "3  0.365699  0.607175     -0.374835             0        1.407282   \n",
       "4  0.365699 -1.646972     -0.374835             0        0.617707   \n",
       "\n",
       "   native-country  \n",
       "0        0.276974  \n",
       "1        0.276974  \n",
       "2        0.276974  \n",
       "3        0.276974  \n",
       "4        0.276974  "
      ]
     },
     "execution_count": 3,
     "metadata": {},
     "output_type": "execute_result"
    }
   ],
   "source": [
    "y = df['income']\n",
    "X = df[['age','workclass', 'fnlwgt', 'education', 'marital-status', 'occupation', 'race', 'sex', 'capital-gain', 'capital-loss', 'hours-per-week','native-country']]\n",
    "X.head()\n"
   ]
  },
  {
   "cell_type": "code",
   "execution_count": 4,
   "metadata": {},
   "outputs": [
    {
     "data": {
      "text/plain": [
       "((18699, 12), (4675, 12))"
      ]
     },
     "execution_count": 4,
     "metadata": {},
     "output_type": "execute_result"
    }
   ],
   "source": [
    "X_train, X_test, y_train, y_test = train_test_split(X, y, test_size=0.2, random_state=42)\n",
    "X_train.shape, X_test.shape"
   ]
  },
  {
   "cell_type": "markdown",
   "metadata": {},
   "source": [
    "Naïve Bayes"
   ]
  },
  {
   "cell_type": "code",
   "execution_count": 5,
   "metadata": {},
   "outputs": [
    {
     "name": "stdout",
     "output_type": "stream",
     "text": [
      "Naïve Bayes Classifier:\n",
      "Accuracy: 0.7578609625668449\n",
      "Classification Report:\n",
      "              precision    recall  f1-score   support\n",
      "\n",
      "          -1       0.74      0.79      0.77      2337\n",
      "           1       0.78      0.72      0.75      2338\n",
      "\n",
      "    accuracy                           0.76      4675\n",
      "   macro avg       0.76      0.76      0.76      4675\n",
      "weighted avg       0.76      0.76      0.76      4675\n",
      "\n"
     ]
    }
   ],
   "source": [
    "# Creating a Gaussian Classifier\n",
    "Naive_Model = GaussianNB()\n",
    "\n",
    "# Train the model using the training sets\n",
    "gnb = Naive_Model.fit(X_train,y_train)\n",
    "\n",
    "# Predictions on the test set\n",
    "gnb_predictions = gnb.predict(X_test)\n",
    "\n",
    "# Evaluate Naïve Bayes Classifier\n",
    "print(\"Naïve Bayes Classifier:\")\n",
    "print(\"Accuracy:\", accuracy_score(y_test, gnb_predictions))\n",
    "print(\"Classification Report:\")\n",
    "print(classification_report(y_test, gnb_predictions))"
   ]
  },
  {
   "cell_type": "markdown",
   "metadata": {},
   "source": [
    "Train Score"
   ]
  },
  {
   "cell_type": "code",
   "execution_count": 7,
   "metadata": {},
   "outputs": [
    {
     "data": {
      "text/plain": [
       "0.7649606930851918"
      ]
     },
     "execution_count": 7,
     "metadata": {},
     "output_type": "execute_result"
    }
   ],
   "source": [
    "Naive_Model.score(X_train, y_train)"
   ]
  },
  {
   "cell_type": "markdown",
   "metadata": {},
   "source": [
    "Test Score"
   ]
  },
  {
   "cell_type": "code",
   "execution_count": 8,
   "metadata": {},
   "outputs": [
    {
     "data": {
      "text/plain": [
       "0.7578609625668449"
      ]
     },
     "execution_count": 8,
     "metadata": {},
     "output_type": "execute_result"
    }
   ],
   "source": [
    "Naive_Model.score(X_test, y_test)"
   ]
  },
  {
   "cell_type": "markdown",
   "metadata": {},
   "source": [
    "Confusion_matrix for Naïve Bayes"
   ]
  },
  {
   "cell_type": "code",
   "execution_count": 16,
   "metadata": {},
   "outputs": [
    {
     "name": "stdout",
     "output_type": "stream",
     "text": [
      "Confusion Matrix for Naïve_Bayes :\n",
      "[[1852  485]\n",
      " [ 647 1691]]\n"
     ]
    },
    {
     "data": {
      "image/png": "[encoded data removed]",
      "text/plain": [
       "<Figure size 800x600 with 2 Axes>"
      ]
     },
     "metadata": {},
     "output_type": "display_data"
    }
   ],
   "source": [
    "import seaborn as sns\n",
    "# Calculate confusion matrix\n",
    "confusion_matrix_Naïve_Bayes = confusion_matrix(y_test, gnb_predictions)\n",
    "\n",
    "# Display confusion matrix\n",
    "print(\"Confusion Matrix for Naïve_Bayes :\")\n",
    "print(confusion_matrix_Naïve_Bayes)\n",
    "plt.figure(figsize=(8, 6))\n",
    "sns.heatmap(confusion_matrix_Naïve_Bayes, annot=True, fmt='d', cmap='Blues')\n",
    "plt.title('Confusion Matrix for Naïve_Bayes')\n",
    "plt.xlabel('Predicted')\n",
    "plt.ylabel('Actual')\n",
    "plt.show()"
   ]
  },
  {
   "cell_type": "markdown",
   "metadata": {},
   "source": [
    "Random Forest Classification"
   ]
  },
  {
   "cell_type": "code",
   "execution_count": 17,
   "metadata": {},
   "outputs": [
    {
     "name": "stdout",
     "output_type": "stream",
     "text": [
      "Fitting 3 folds for each of 16 candidates, totalling 48 fits\n"
     ]
    },
    {
     "name": "stderr",
     "output_type": "stream",
     "text": [
      "[Parallel(n_jobs=-1)]: Using backend LokyBackend with 4 concurrent workers.\n",
      "[Parallel(n_jobs=-1)]: Done  33 tasks      | elapsed:   40.0s\n",
      "[Parallel(n_jobs=-1)]: Done  48 out of  48 | elapsed:   43.8s finished\n"
     ]
    },
    {
     "name": "stdout",
     "output_type": "stream",
     "text": [
      "Best Parameters: {'max_depth': None, 'min_samples_leaf': 9, 'min_samples_split': 11, 'n_estimators': 80}\n",
      "Best Score: 0.827103053639232\n"
     ]
    }
   ],
   "source": [
    "# Define the parameter grid to search\n",
    "param_grid = {\n",
    "    'n_estimators': [80, 90],  # Reduce trees\n",
    "    'max_depth': [None, 8],  # Limit tree depth\n",
    "    'min_samples_split': [11, 12],  # Increase minimum samples split\n",
    "    'min_samples_leaf': [9, 10]  # Increase minimum samples  leaf\n",
    "}\n",
    "# Initialize the classifier\n",
    "Random_Forest= RandomForestClassifier(random_state=42)\n",
    "\n",
    "# Initialize GridSearchCV\n",
    "grid_search = GridSearchCV(estimator=Random_Forest, param_grid=param_grid, cv=3, n_jobs=-1, verbose=2, scoring='accuracy')\n",
    "\n",
    "# Fit GridSearchCV\n",
    "grid_search.fit(X_train, y_train)\n",
    "\n",
    "# Best parameters and best score\n",
    "print(\"Best Parameters:\", grid_search.best_params_)\n",
    "print(\"Best Score:\", grid_search.best_score_)\n",
    "\n",
    "# Use the best estimator to make predictions\n",
    "y_pred = grid_search.best_estimator_.predict(X_test)"
   ]
  },
  {
   "cell_type": "code",
   "execution_count": 18,
   "metadata": {},
   "outputs": [
    {
     "name": "stdout",
     "output_type": "stream",
     "text": [
      "Random Forest Classifier:\n",
      "Accuracy: 0.8203208556149733\n",
      "Classification Report:\n",
      "              precision    recall  f1-score   support\n",
      "\n",
      "          -1       0.84      0.80      0.82      2337\n",
      "           1       0.80      0.85      0.82      2338\n",
      "\n",
      "    accuracy                           0.82      4675\n",
      "   macro avg       0.82      0.82      0.82      4675\n",
      "weighted avg       0.82      0.82      0.82      4675\n",
      "\n"
     ]
    }
   ],
   "source": [
    "# Evaluate the best model obtained from Grid Search\n",
    "print(\"Random Forest Classifier:\")\n",
    "print(\"Accuracy:\", accuracy_score(y_test, y_pred))\n",
    "print(\"Classification Report:\")\n",
    "print(classification_report(y_test, y_pred))"
   ]
  },
  {
   "cell_type": "markdown",
   "metadata": {},
   "source": [
    "Train Score"
   ]
  },
  {
   "cell_type": "code",
   "execution_count": 19,
   "metadata": {},
   "outputs": [
    {
     "data": {
      "text/plain": [
       "0.8560885608856088"
      ]
     },
     "execution_count": 19,
     "metadata": {},
     "output_type": "execute_result"
    }
   ],
   "source": [
    "grid_search.score(X_train, y_train)"
   ]
  },
  {
   "cell_type": "markdown",
   "metadata": {},
   "source": [
    "Test Score"
   ]
  },
  {
   "cell_type": "code",
   "execution_count": 20,
   "metadata": {},
   "outputs": [
    {
     "data": {
      "text/plain": [
       "0.8203208556149733"
      ]
     },
     "execution_count": 20,
     "metadata": {},
     "output_type": "execute_result"
    }
   ],
   "source": [
    "grid_search.score(X_test, y_test)"
   ]
  },
  {
   "cell_type": "markdown",
   "metadata": {},
   "source": [
    "Confusion_matrix for Random Forest Classification"
   ]
  },
  {
   "cell_type": "code",
   "execution_count": 21,
   "metadata": {},
   "outputs": [
    {
     "name": "stdout",
     "output_type": "stream",
     "text": [
      "Confusion Matrix for Naïve_Bayes :\n",
      "[[1858  479]\n",
      " [ 361 1977]]\n"
     ]
    },
    {
     "data": {
      "image/png": "[encoded data removed]",
      "text/plain": [
       "<Figure size 800x600 with 2 Axes>"
      ]
     },
     "metadata": {},
     "output_type": "display_data"
    }
   ],
   "source": [
    "import seaborn as sns\n",
    "# Calculate confusion matrix\n",
    "confusion_matrix_Random_Forest_Classification = confusion_matrix(y_test, y_pred)\n",
    "\n",
    "# Display confusion matrix\n",
    "print(\"Confusion Matrix for Naïve_Bayes :\")\n",
    "print(confusion_matrix_Random_Forest_Classification)\n",
    "plt.figure(figsize=(8, 6))\n",
    "sns.heatmap(confusion_matrix_Random_Forest_Classification, annot=True, fmt='d', cmap='Blues')\n",
    "plt.title('Confusion Matrix for Random Forest Classification')\n",
    "plt.xlabel('Predicted')\n",
    "plt.ylabel('Actual')\n",
    "plt.show()"
   ]
  }
 ],
 "metadata": {
  "kernelspec": {
   "display_name": "Python 3",
   "language": "python",
   "name": "python3"
  },
  "language_info": {
   "codemirror_mode": {
    "name": "ipython",
    "version": 3
   },
   "file_extension": ".py",
   "mimetype": "text/x-python",
   "name": "python",
   "nbconvert_exporter": "python",
   "pygments_lexer": "ipython3",
   "version": "3.8.3"
  }
 },
 "nbformat": 4,
 "nbformat_minor": 2
}
